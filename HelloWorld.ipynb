{
 "cells": [
  {
   "cell_type": "markdown",
   "metadata": {},
   "source": [
    "# Machine Learning - Understanding Tensor Flow\n",
    "\n",
    "## Introducing TensorFlow\n",
    "\n",
    "Machine Learning Problems:\n",
    "\n",
    "- Classification\n",
    "- Regression (fitting curve to data)\n",
    "- Clustering (Grouping data based on similarities)\n",
    "- Rule-Extraction (if-then patterns)\n",
    "Example:\n",
    "Whales Classification: Are they mammal or fish\n",
    "- Rule-based classfier\n",
    "  - A series of rule created by experts\n",
    "- ML-based Classifier\n",
    "  - Creates classifier based on corpus of already tagged data\n",
    "  - Information about input data is critical when trying to compare with known data\n",
    "  - Very dependent on features of the training data and features of input data\n",
    " - Difference between the two types:\n",
    "  - ML Based is Dynamic vs rule-base which is static\n",
    "  - ML Based dont really require experts, rule-based require experts\n",
    "  - ML Based reqiure a corpus of data\n",
    "  - ML Based has a training step\n",
    "\n",
    "Traditoinal ML based binary classifier\n",
    "- input is a vector of features\n",
    "- output is classification (label)\n",
    "Modern \"Representation\" classifiers\n",
    "- automatically determine input feature vectors\n",
    "\n",
    "## Understanding Deep Learning\n",
    "\n",
    "- Representation systems can figure out feature and classifications by itself during training\n",
    "- The Key to the the \"representation\" system is the feature selection algorithm\n",
    "\n",
    "## Deep Learning and Neural Networks\n",
    "\n",
    "- Deep Learning: Algorithms that learn what features matter (widely used for speach and image recognition)\n",
    "- Neural Networks: The most common class of deep learning algos\n",
    "- NN are built up of Neurons, which are the building blocks to support \"learning\"\n",
    "\n",
    "- Deep Learning systems are made up of layers:\n",
    "  Example: Image Recognition\n",
    "  - Pixel extraction\n",
    "  - Edge Extraction\n",
    "  - Corner Extraction\n",
    "  - Object Part combination\n",
    " The input and output layers are the visible layers\n",
    " The middle layers are the hidden layers\n",
    "\n",
    " ## Introduction Of Tensorflow\n",
    " - Open source library for numerical computation using data flow graphs,\n",
    " made by Google\n",
    " - Build for distributed world (clusters, GPUS, etc)\n",
    " - Suite of software (TensorFlow Board, serving)\n",
    "\n",
    " ### Uses:\n",
    "  - Greate for ML development\n",
    "  - Has a REPL env for quick development\n",
    "  - Models are easily ported to production\n",
    "  - Large scale distributed models\n",
    "  - Models for mobile and embedded envs\n",
    "\n",
    " ### Strengths\n",
    "\n",
    " - Easy to use Stable Python Api\n",
    " - Scalable\n",
    " - Efficient and performant\n",
    " - Great support from Google\n",
    " - Addional tools for viz and serving\n",
    "\n",
    "### The World is a Graph\n",
    "\n",
    "- Everything is a graph either a node or an edge\n",
    "- Every node is a computation/operators\n",
    "- Every edge is Data, data is transformed by nodes, also called tensors\n",
    "\n",
    "Example: (Flow Grap)\n",
    "```\n",
    "----1.8----(round)--2--(multiply)--10--(add)--15\n",
    "              \\       /               /\n",
    "               2     5               5\n",
    "                \\   /               /\n",
    "--3.6--(flr)--3-(add)----5-----(abs)\n",
    "```"
   ]
  },
  {
   "cell_type": "code",
   "execution_count": 9,
   "metadata": {},
   "outputs": [
    {
     "name": "stdout",
     "output_type": "stream",
     "text": [
      "Hellow, tensorflow World!1234\n"
     ]
    }
   ],
   "source": [
    "import tensorflow as tf\n",
    "\n",
    "hello = tf.constant('Hellow, tensorflow World!1234')\n",
    "\n",
    "## need a session to run tensor flow\n",
    "sess = tf.Session()\n",
    "print(sess.run(hello))"
   ]
  },
  {
   "cell_type": "markdown",
   "metadata": {},
   "source": [
    "# Computation Graph\n",
    "Tensor flow problems all have to be directy acyclic graphs. Cyclic graphs will never finish\n",
    "## Feeback loops\n",
    "Tensor flow handles feedbacks in the algorithm to make sure that the computation graph has no cycles\n",
    "Cycles can be unrolled in the computation graph, repeating as much as we want. The number of times \n",
    "the graph is unrolled depends on the number of iterations."
   ]
  },
  {
   "cell_type": "code",
   "execution_count": 10,
   "metadata": {
    "scrolled": true
   },
   "outputs": [],
   "source": [
    "# Constants are immutable in tensor flow, the name is nice for use with tensor board\n",
    "a = tf.constant(6, name='constant_a')\n",
    "b = tf.constant(3, name='constant_b')\n",
    "c = tf.constant(10, name='constant_c')\n",
    "d = tf.constant(5, name='costant_d')"
   ]
  },
  {
   "cell_type": "code",
   "execution_count": 11,
   "metadata": {},
   "outputs": [],
   "source": [
    "mul = tf.multiply(a,b, name='mul')\n",
    "div = tf.div(c,d,name='div')\n",
    "addn = tf.add_n([mul,div],name='addn')"
   ]
  },
  {
   "cell_type": "code",
   "execution_count": 12,
   "metadata": {},
   "outputs": [
    {
     "name": "stdout",
     "output_type": "stream",
     "text": [
      "Tensor(\"addn_1:0\", shape=(), dtype=int32)\n",
      "Tensor(\"constant_a_2:0\", shape=(), dtype=int32)\n"
     ]
    }
   ],
   "source": [
    "# printing is really only going to print the node/edge object information\n",
    "print addn\n",
    "print a"
   ]
  },
  {
   "cell_type": "code",
   "execution_count": 13,
   "metadata": {},
   "outputs": [
    {
     "data": {
      "text/plain": [
       "6"
      ]
     },
     "execution_count": 13,
     "metadata": {},
     "output_type": "execute_result"
    }
   ],
   "source": [
    "#Must us ehte session to run a part of the graph\n",
    "sess.run(addn)"
   ]
  },
  {
   "cell_type": "code",
   "execution_count": 14,
   "metadata": {},
   "outputs": [
    {
     "data": {
      "text/plain": [
       "2"
      ]
     },
     "execution_count": 14,
     "metadata": {},
     "output_type": "execute_result"
    }
   ],
   "source": [
    "sess.run(div)"
   ]
  },
  {
   "cell_type": "code",
   "execution_count": 15,
   "metadata": {},
   "outputs": [
    {
     "data": {
      "text/plain": [
       "18"
      ]
     },
     "execution_count": 15,
     "metadata": {},
     "output_type": "execute_result"
    }
   ],
   "source": [
    "sess.run(mul)"
   ]
  },
  {
   "cell_type": "code",
   "execution_count": 16,
   "metadata": {},
   "outputs": [
    {
     "data": {
      "text/plain": [
       "6"
      ]
     },
     "execution_count": 16,
     "metadata": {},
     "output_type": "execute_result"
    }
   ],
   "source": [
    "sess.run(a)"
   ]
  },
  {
   "cell_type": "code",
   "execution_count": 17,
   "metadata": {},
   "outputs": [],
   "source": [
    "# Use writer to write to a file, save the graph representation of the session right now\n",
    "writer = tf.summary.FileWriter('./m2_example1',sess.graph)\n",
    "#close these bad boy, an run the tensorboard command on the above created file to see the output\n",
    "writer.close()\n",
    "sess.close()"
   ]
  },
  {
   "cell_type": "markdown",
   "metadata": {},
   "source": [
    "## Tensor Flow Computation\n",
    "Every graph execution occurs in two steps\n",
    "- computation of the graph\n",
    "- execution of the graph"
   ]
  },
  {
   "cell_type": "code",
   "execution_count": 29,
   "metadata": {},
   "outputs": [
    {
     "name": "stdout",
     "output_type": "stream",
     "text": [
      "Sum of square, power, and square root  91.563995\n"
     ]
    }
   ],
   "source": [
    "a = tf.constant(6.5, name='constant_a')\n",
    "b = tf.constant(3.4, name='constant_b')\n",
    "c = tf.constant(3.0, name='constant_c')\n",
    "d = tf.constant(100.2, name='costant_d')\n",
    "square = tf.square(a, name='square_a')\n",
    "power = tf.pow(b, c, name='pow_b_c')\n",
    "sqrt = tf.sqrt(d, name='sqrt_d')\n",
    "final_sum = tf.add_n([square, power, sqrt], name=\"final_sum\")\n",
    "sess = tf.Session()\n",
    "print \"Sum of square, power, and square root \", sess.run(final_sum)\n",
    "sess.close()\n",
    "# Use writer to write to a file, save the graph representation of the session right now\n",
    "writer = tf.summary.FileWriter('./m2_example2',sess.graph)\n",
    "#close these bad boy, an run the tensorboard command on the above created file to see the output\n",
    "writer.close()\n",
    "sess.close()"
   ]
  },
  {
   "cell_type": "code",
   "execution_count": 33,
   "metadata": {},
   "outputs": [
    {
     "name": "stdout",
     "output_type": "stream",
     "text": [
      "zeroD Rank: 0\n",
      "oneD Rank: 1\n",
      "twoD Rank: 2\n"
     ]
    }
   ],
   "source": [
    "# determine the rank of the tensors\n",
    "sess = tf.Session()\n",
    "zeroD = tf.constant(5)\n",
    "print \"zeroD Rank: %d\" % sess.run(tf.rank(zeroD))\n",
    "oneD = tf.constant([\"how\",\"are\",\"you?\"])\n",
    "print \"oneD Rank: %d\" % sess.run(tf.rank(oneD))\n",
    "twoD = tf.constant([[1,2],[3,4]])\n",
    "print \"twoD Rank: %d\" % sess.run(tf.rank(twoD))\n",
    "sess.close()"
   ]
  },
  {
   "cell_type": "code",
   "execution_count": 38,
   "metadata": {},
   "outputs": [
    {
     "name": "stdout",
     "output_type": "stream",
     "text": [
      "Collecting ujson\n",
      "\u001b[?25l  Downloading https://files.pythonhosted.org/packages/16/c4/79f3409bc710559015464e5f49b9879430d8f87498ecdc335899732e5377/ujson-1.35.tar.gz (192kB)\n",
      "\u001b[K    100% |████████████████████████████████| 194kB 2.3MB/s ta 0:00:01\n",
      "\u001b[?25hBuilding wheels for collected packages: ujson\n",
      "  Running setup.py bdist_wheel for ujson ... \u001b[?25ldone\n",
      "\u001b[?25h  Stored in directory: /home/scott/.cache/pip/wheels/28/77/e4/0311145b9c2e2f01470e744855131f9e34d6919687550f87d1\n",
      "Successfully built ujson\n",
      "Installing collected packages: ujson\n",
      "Successfully installed ujson-1.35\n"
     ]
    }
   ],
   "source": [
    "!pip install ujson"
   ]
  },
  {
   "cell_type": "code",
   "execution_count": 45,
   "metadata": {},
   "outputs": [
    {
     "name": "stdout",
     "output_type": "stream",
     "text": [
      "mean(sum(x), prod(y)): 303\n"
     ]
    }
   ],
   "source": [
    "# using multiple dimensional tensors\n",
    "x = tf.constant([100,200,300], name='x')\n",
    "y = tf.constant([1,2,3], name='y')\n",
    "sum_x = tf.reduce_sum(x, name='sum_x')\n",
    "prod_y = tf.reduce_prod(y, name='prod_y')\n",
    "final_div = tf.div(sum_x,prod_y,name='final_div')\n",
    "final_mean = tf.reduce_mean([sum_x,prod_y],name='mean')\n",
    "sess = tf.Session()\n",
    "\n",
    "print \"mean(sum(x), prod(y)):\", sess.run(final_mean)\n",
    "sess.close()"
   ]
  },
  {
   "cell_type": "markdown",
   "metadata": {},
   "source": [
    "## Numpy in Tensor Flow\n",
    "Tensor flow is easily able to integrate numpy data formats in algo. computations"
   ]
  },
  {
   "cell_type": "code",
   "execution_count": 51,
   "metadata": {},
   "outputs": [
    {
     "name": "stdout",
     "output_type": "stream",
     "text": [
      "0\n",
      "1\n"
     ]
    }
   ],
   "source": [
    "import numpy as np\n",
    "sess = tf.Session()\n",
    "zeroD = np.array(30, dtype=np.int32)\n",
    "print sess.run(tf.rank(zeroD))\n",
    "oneD = np.array([1,2,3,4], dtype=np.int32)\n",
    "print sess.run(tf.rank(oneD))\n",
    "sess.close()"
   ]
  },
  {
   "cell_type": "code",
   "execution_count": null,
   "metadata": {},
   "outputs": [],
   "source": []
  }
 ],
 "metadata": {
  "kernelspec": {
   "display_name": "Python 2",
   "language": "python",
   "name": "python2"
  },
  "language_info": {
   "codemirror_mode": {
    "name": "ipython",
    "version": 2
   },
   "file_extension": ".py",
   "mimetype": "text/x-python",
   "name": "python",
   "nbconvert_exporter": "python",
   "pygments_lexer": "ipython2",
   "version": "2.7.15rc1"
  }
 },
 "nbformat": 4,
 "nbformat_minor": 2
}
