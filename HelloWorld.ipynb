{
 "cells": [
  {
   "cell_type": "markdown",
   "metadata": {},
   "source": [
    "# Machine Learning - Understanding Tensor Flow\n",
    "\n",
    "## Introducing TensorFlow\n",
    "\n",
    "Machine Learning Problems:\n",
    "\n",
    "- Classification\n",
    "- Regression (fitting curve to data)\n",
    "- Clustering (Grouping data based on similarities)\n",
    "- Rule-Extraction (if-then patterns)\n",
    "Example:\n",
    "Whales Classification: Are they mammal or fish\n",
    "- Rule-based classfier\n",
    "  - A series of rule created by experts\n",
    "- ML-based Classifier\n",
    "  - Creates classifier based on corpus of already tagged data\n",
    "  - Information about input data is critical when trying to compare with known data\n",
    "  - Very dependent on features of the training data and features of input data\n",
    " - Difference between the two types:\n",
    "  - ML Based is Dynamic vs rule-base which is static\n",
    "  - ML Based dont really require experts, rule-based require experts\n",
    "  - ML Based reqiure a corpus of data\n",
    "  - ML Based has a training step\n",
    "\n",
    "Traditoinal ML based binary classifier\n",
    "- input is a vector of features\n",
    "- output is classification (label)\n",
    "Modern \"Representation\" classifiers\n",
    "- automatically determine input feature vectors\n",
    "\n",
    "## Understanding Deep Learning\n",
    "\n",
    "- Representation systems can figure out feature and classifications by itself during training\n",
    "- The Key to the the \"representation\" system is the feature selection algorithm\n",
    "\n",
    "## Deep Learning and Neural Networks\n",
    "\n",
    "- Deep Learning: Algorithms that learn what features matter (widely used for speach and image recognition)\n",
    "- Neural Networks: The most common class of deep learning algos\n",
    "- NN are built up of Neurons, which are the building blocks to support \"learning\"\n",
    "\n",
    "- Deep Learning systems are made up of layers:\n",
    "  Example: Image Recognition\n",
    "  - Pixel extraction\n",
    "  - Edge Extraction\n",
    "  - Corner Extraction\n",
    "  - Object Part combination\n",
    " The input and output layers are the visible layers\n",
    " The middle layers are the hidden layers\n",
    "\n",
    " ## Introduction Of Tensorflow\n",
    " - Open source library for numerical computation using data flow graphs,\n",
    " made by Google\n",
    " - Build for distributed world (clusters, GPUS, etc)\n",
    " - Suite of software (TensorFlow Board, serving)\n",
    "\n",
    " ### Uses:\n",
    "  - Greate for ML development\n",
    "  - Has a REPL env for quick development\n",
    "  - Models are easily ported to production\n",
    "  - Large scale distributed models\n",
    "  - Models for mobile and embedded envs\n",
    "\n",
    " ### Strengths\n",
    "\n",
    " - Easy to use Stable Python Api\n",
    " - Scalable\n",
    " - Efficient and performant\n",
    " - Great support from Google\n",
    " - Addional tools for viz and serving\n",
    "\n",
    "### The World is a Graph\n",
    "\n",
    "- Everything is a graph either a node or an edge\n",
    "- Every node is a computation/operators\n",
    "- Every edge is Data, data is transformed by nodes, also called tensors\n",
    "\n",
    "Example: (Flow Grap)\n",
    "```\n",
    "----1.8----(round)--2--(multiply)--10--(add)--15\n",
    "              \\       /               /\n",
    "               2     5               5\n",
    "                \\   /               /\n",
    "--3.6--(flr)--3-(add)----5-----(abs)\n",
    "```"
   ]
  },
  {
   "cell_type": "code",
   "execution_count": 9,
   "metadata": {},
   "outputs": [
    {
     "name": "stdout",
     "output_type": "stream",
     "text": [
      "Hellow, tensorflow World!1234\n"
     ]
    }
   ],
   "source": [
    "import tensorflow as tf\n",
    "\n",
    "hello = tf.constant('Hellow, tensorflow World!1234')\n",
    "\n",
    "## need a session to run tensor flow\n",
    "sess = tf.Session()\n",
    "print(sess.run(hello))"
   ]
  },
  {
   "cell_type": "markdown",
   "metadata": {},
   "source": [
    "# Computation Graph\n",
    "Tensor flow problems all have to be directy acyclic graphs. Cyclic graphs will never finish\n",
    "## Feeback loops\n",
    "Tensor flow handles feedbacks in the algorithm to make sure that the computation graph has no cycles\n",
    "Cycles can be unrolled in the computation graph, repeating as much as we want. The number of times \n",
    "the graph is unrolled depends on the number of iterations."
   ]
  },
  {
   "cell_type": "code",
   "execution_count": 10,
   "metadata": {
    "scrolled": true
   },
   "outputs": [],
   "source": [
    "# Constants are immutable in tensor flow, the name is nice for use with tensor board\n",
    "a = tf.constant(6, name='constant_a')\n",
    "b = tf.constant(3, name='constant_b')\n",
    "c = tf.constant(10, name='constant_c')\n",
    "d = tf.constant(5, name='costant_d')"
   ]
  },
  {
   "cell_type": "code",
   "execution_count": 11,
   "metadata": {},
   "outputs": [],
   "source": [
    "mul = tf.multiply(a,b, name='mul')\n",
    "div = tf.div(c,d,name='div')\n",
    "addn = tf.add_n([mul,div],name='addn')"
   ]
  },
  {
   "cell_type": "code",
   "execution_count": 12,
   "metadata": {},
   "outputs": [
    {
     "name": "stdout",
     "output_type": "stream",
     "text": [
      "Tensor(\"addn_1:0\", shape=(), dtype=int32)\n",
      "Tensor(\"constant_a_2:0\", shape=(), dtype=int32)\n"
     ]
    }
   ],
   "source": [
    "# printing is really only going to print the node/edge object information\n",
    "print addn\n",
    "print a"
   ]
  },
  {
   "cell_type": "code",
   "execution_count": 13,
   "metadata": {},
   "outputs": [
    {
     "data": {
      "text/plain": [
       "6"
      ]
     },
     "execution_count": 13,
     "metadata": {},
     "output_type": "execute_result"
    }
   ],
   "source": [
    "#Must us ehte session to run a part of the graph\n",
    "sess.run(addn)"
   ]
  },
  {
   "cell_type": "code",
   "execution_count": 14,
   "metadata": {},
   "outputs": [
    {
     "data": {
      "text/plain": [
       "2"
      ]
     },
     "execution_count": 14,
     "metadata": {},
     "output_type": "execute_result"
    }
   ],
   "source": [
    "sess.run(div)"
   ]
  },
  {
   "cell_type": "code",
   "execution_count": 15,
   "metadata": {},
   "outputs": [
    {
     "data": {
      "text/plain": [
       "18"
      ]
     },
     "execution_count": 15,
     "metadata": {},
     "output_type": "execute_result"
    }
   ],
   "source": [
    "sess.run(mul)"
   ]
  },
  {
   "cell_type": "code",
   "execution_count": 16,
   "metadata": {},
   "outputs": [
    {
     "data": {
      "text/plain": [
       "6"
      ]
     },
     "execution_count": 16,
     "metadata": {},
     "output_type": "execute_result"
    }
   ],
   "source": [
    "sess.run(a)"
   ]
  },
  {
   "cell_type": "code",
   "execution_count": 17,
   "metadata": {},
   "outputs": [],
   "source": [
    "# Use writer to write to a file, save the graph representation of the session right now\n",
    "writer = tf.summary.FileWriter('./m2_example1',sess.graph)\n",
    "#close these bad boy, an run the tensorboard command on the above created file to see the output\n",
    "writer.close()\n",
    "sess.close()"
   ]
  },
  {
   "cell_type": "markdown",
   "metadata": {},
   "source": [
    "## Tensor Flow Computation\n",
    "Every graph execution occurs in two steps\n",
    "- computation of the graph\n",
    "- execution of the graph"
   ]
  },
  {
   "cell_type": "code",
   "execution_count": 29,
   "metadata": {},
   "outputs": [
    {
     "name": "stdout",
     "output_type": "stream",
     "text": [
      "Sum of square, power, and square root  91.563995\n"
     ]
    }
   ],
   "source": [
    "a = tf.constant(6.5, name='constant_a')\n",
    "b = tf.constant(3.4, name='constant_b')\n",
    "c = tf.constant(3.0, name='constant_c')\n",
    "d = tf.constant(100.2, name='costant_d')\n",
    "square = tf.square(a, name='square_a')\n",
    "power = tf.pow(b, c, name='pow_b_c')\n",
    "sqrt = tf.sqrt(d, name='sqrt_d')\n",
    "final_sum = tf.add_n([square, power, sqrt], name=\"final_sum\")\n",
    "sess = tf.Session()\n",
    "print \"Sum of square, power, and square root \", sess.run(final_sum)\n",
    "sess.close()\n",
    "# Use writer to write to a file, save the graph representation of the session right now\n",
    "writer = tf.summary.FileWriter('./m2_example2',sess.graph)\n",
    "#close these bad boy, an run the tensorboard command on the above created file to see the output\n",
    "writer.close()\n",
    "sess.close()"
   ]
  },
  {
   "cell_type": "code",
   "execution_count": 33,
   "metadata": {},
   "outputs": [
    {
     "name": "stdout",
     "output_type": "stream",
     "text": [
      "zeroD Rank: 0\n",
      "oneD Rank: 1\n",
      "twoD Rank: 2\n"
     ]
    }
   ],
   "source": [
    "# determine the rank of the tensors\n",
    "sess = tf.Session()\n",
    "zeroD = tf.constant(5)\n",
    "print \"zeroD Rank: %d\" % sess.run(tf.rank(zeroD))\n",
    "oneD = tf.constant([\"how\",\"are\",\"you?\"])\n",
    "print \"oneD Rank: %d\" % sess.run(tf.rank(oneD))\n",
    "twoD = tf.constant([[1,2],[3,4]])\n",
    "print \"twoD Rank: %d\" % sess.run(tf.rank(twoD))\n",
    "sess.close()"
   ]
  },
  {
   "cell_type": "code",
   "execution_count": 38,
   "metadata": {},
   "outputs": [
    {
     "name": "stdout",
     "output_type": "stream",
     "text": [
      "Collecting ujson\n",
      "\u001b[?25l  Downloading https://files.pythonhosted.org/packages/16/c4/79f3409bc710559015464e5f49b9879430d8f87498ecdc335899732e5377/ujson-1.35.tar.gz (192kB)\n",
      "\u001b[K    100% |████████████████████████████████| 194kB 2.3MB/s ta 0:00:01\n",
      "\u001b[?25hBuilding wheels for collected packages: ujson\n",
      "  Running setup.py bdist_wheel for ujson ... \u001b[?25ldone\n",
      "\u001b[?25h  Stored in directory: /home/scott/.cache/pip/wheels/28/77/e4/0311145b9c2e2f01470e744855131f9e34d6919687550f87d1\n",
      "Successfully built ujson\n",
      "Installing collected packages: ujson\n",
      "Successfully installed ujson-1.35\n"
     ]
    }
   ],
   "source": [
    "!pip install ujson"
   ]
  },
  {
   "cell_type": "code",
   "execution_count": 45,
   "metadata": {},
   "outputs": [
    {
     "name": "stdout",
     "output_type": "stream",
     "text": [
      "mean(sum(x), prod(y)): 303\n"
     ]
    }
   ],
   "source": [
    "# using multiple dimensional tensors\n",
    "x = tf.constant([100,200,300], name='x')\n",
    "y = tf.constant([1,2,3], name='y')\n",
    "sum_x = tf.reduce_sum(x, name='sum_x')\n",
    "prod_y = tf.reduce_prod(y, name='prod_y')\n",
    "final_div = tf.div(sum_x,prod_y,name='final_div')\n",
    "final_mean = tf.reduce_mean([sum_x,prod_y],name='mean')\n",
    "sess = tf.Session()\n",
    "\n",
    "print \"mean(sum(x), prod(y)):\", sess.run(final_mean)\n",
    "sess.close()"
   ]
  },
  {
   "cell_type": "markdown",
   "metadata": {},
   "source": [
    "## Numpy in Tensor Flow\n",
    "Tensor flow is easily able to integrate numpy data formats in algo. computations"
   ]
  },
  {
   "cell_type": "code",
   "execution_count": 52,
   "metadata": {},
   "outputs": [
    {
     "name": "stdout",
     "output_type": "stream",
     "text": [
      "0\n",
      "1\n"
     ]
    }
   ],
   "source": [
    "import numpy as np\n",
    "sess = tf.Session()\n",
    "zeroD = np.array(30, dtype=np.int32)\n",
    "print sess.run(tf.rank(zeroD))\n",
    "oneD = np.array([1,2,3,4], dtype=np.int32)\n",
    "print sess.run(tf.rank(oneD))\n",
    "sess.close()"
   ]
  },
  {
   "cell_type": "markdown",
   "metadata": {},
   "source": [
    "# Linear Regression\n",
    "\n",
    "- Start with some initial value for a and b, (a+bx = y); called a_start, b_start\n",
    "- Calculate the least square error from the training set and feed back into the start of the algorithm\n",
    "- Calculate new values for a and b, a_i, b_i based on the squared error\n",
    "- iterate until error is below some value, or change is error is below a threshold\n",
    "\n",
    "# Placeholders\n",
    "\n",
    "- Used by tensor flow to hold a place for variables to passed into the algorithm\n"
   ]
  },
  {
   "cell_type": "code",
   "execution_count": 58,
   "metadata": {},
   "outputs": [
    {
     "name": "stdout",
     "output_type": "stream",
     "text": [
      "Sum divided by prod:  100\n",
      "Sum divided by prod2:  1\n"
     ]
    }
   ],
   "source": [
    "# create a 1-D tensor that holds 3 elements called x\n",
    "# using placeholders, the sum and prod methods are not known until runtime\n",
    "x = tf.placeholder(tf.int32, shape=[3], name='x')\n",
    "y = tf.placeholder(tf.int32, shape=[3], name='y')\n",
    "sum_x = tf.reduce_sum(x, name='sum_x')\n",
    "prod_y = tf.reduce_prod(y, name='prod_y')\n",
    "final_div = tf.div(sum_x, prod_y, name=\"final_div\")\n",
    "sess = tf.Session()\n",
    "print \"Sum divided by prod: \", sess.run(final_div, feed_dict={x:[100,200,300], y:[1,2,3]})\n",
    "print \"Sum divided by prod2: \", sess.run(final_div, feed_dict={x:[1,2,10], y:[1,2,4]})\n",
    "sess.close()"
   ]
  },
  {
   "cell_type": "code",
   "execution_count": 62,
   "metadata": {},
   "outputs": [
    {
     "name": "stdout",
     "output_type": "stream",
     "text": [
      "Wx test:  [  50 5500]\n",
      "y:  [  21 3309]\n",
      "fetches y:  [ 101 1001]\n",
      "multiple fetch:  [array([ 105, 1203], dtype=int32), array([5, 9], dtype=int32)]\n"
     ]
    }
   ],
   "source": [
    "#y=Wx+b, W is a constant 1-D tensor\n",
    "W = tf.constant([10,100], name=\"W_const\")\n",
    "# x, b can be any shaped tensor\n",
    "x = tf.placeholder(tf.int32, name='x')\n",
    "b = tf.placeholder(tf.int32, name='b')\n",
    "# multiply is not matrx multiplication, but element to element multiplication, and W and x need to be same shape and rank\n",
    "Wx = tf.multiply(W, x, name='Wx')\n",
    "\n",
    "y = tf.add(Wx, b, name=\"y\")\n",
    "y_ = tf.subtract(x,b, name=\"y_\")\n",
    "with tf.Session() as sess:\n",
    "    print \"Wx test: \", sess.run(Wx, feed_dict={x:[5,55]})\n",
    "    print \"y: \", sess.run(y, feed_dict={x:[2,33], b:[1,9]})\n",
    "    ## use fetches to avoid having to specify every value\n",
    "    print \"fetches y: \", sess.run(fetches=y, feed_dict={Wx:[100,1000], b:[1,1]})\n",
    "    print \"multiple fetch: \", sess.run(fetches=[y,y_], feed_dict={x:[10,12], b:[5,3]})"
   ]
  },
  {
   "cell_type": "markdown",
   "metadata": {},
   "source": [
    "# Variables\n",
    "\n",
    "- similar to place holders, but the values of variables are recomputed as the graph is recomputed\n",
    "- the values in a variable persist over several calls to sess.run()"
   ]
  },
  {
   "cell_type": "code",
   "execution_count": 67,
   "metadata": {},
   "outputs": [
    {
     "name": "stdout",
     "output_type": "stream",
     "text": [
      "final y:  [35.5 56.4]\n",
      "s:  [2.5 8. ]\n"
     ]
    }
   ],
   "source": [
    "# vars are given an initial value\n",
    "var_W = tf.Variable([2.5,4.0], tf.float32, name=\"var_W\")\n",
    "x = tf.placeholder(tf.float32, name='x')\n",
    "var_b = tf.Variable([10.0,12.0], tf.float32, name=\"var_b\")\n",
    "y = var_W * x + var_b\n",
    "\n",
    "# initialize all variables that are defined, cant use variables ith out initializing them\n",
    "# execution is assigned to init\n",
    "init = tf.global_variables_initializer()\n",
    "with tf.Session() as sess:\n",
    "    sess.run(init)\n",
    "    print \"final y: \", sess.run(y, feed_dict={x:[10.2,11.1]})\n",
    "\n",
    "s = var_W * x\n",
    "#initialize only W\n",
    "init_W = tf.variables_initializer([var_W])\n",
    "\n",
    "with tf.Session() as sess:\n",
    "    sess.run(init_W)\n",
    "    print \"s: \", sess.run(s, feed_dict={x:[1,2]})"
   ]
  },
  {
   "cell_type": "code",
   "execution_count": null,
   "metadata": {},
   "outputs": [],
   "source": []
  }
 ],
 "metadata": {
  "kernelspec": {
   "display_name": "Python 2",
   "language": "python",
   "name": "python2"
  },
  "language_info": {
   "codemirror_mode": {
    "name": "ipython",
    "version": 2
   },
   "file_extension": ".py",
   "mimetype": "text/x-python",
   "name": "python",
   "nbconvert_exporter": "python",
   "pygments_lexer": "ipython2",
   "version": "2.7.15rc1"
  }
 },
 "nbformat": 4,
 "nbformat_minor": 2
}
