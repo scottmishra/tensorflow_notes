{
 "cells": [
  {
   "cell_type": "markdown",
   "metadata": {},
   "source": [
    "# Machine Learning - Understanding Tensor Flow\n",
    "\n",
    "## Introducing TensorFlow\n",
    "\n",
    "Machine Learning Problems:\n",
    "\n",
    "- Classification\n",
    "- Regression (fitting curve to data)\n",
    "- Clustering (Grouping data based on similarities)\n",
    "- Rule-Extraction (if-then patterns)\n",
    "Example:\n",
    "Whales Classification: Are they mammal or fish\n",
    "- Rule-based classfier\n",
    "  - A series of rule created by experts\n",
    "- ML-based Classifier\n",
    "  - Creates classifier based on corpus of already tagged data\n",
    "  - Information about input data is critical when trying to compare with known data\n",
    "  - Very dependent on features of the training data and features of input data\n",
    " - Difference between the two types:\n",
    "  - ML Based is Dynamic vs rule-base which is static\n",
    "  - ML Based dont really require experts, rule-based require experts\n",
    "  - ML Based reqiure a corpus of data\n",
    "  - ML Based has a training step\n",
    "\n",
    "Traditoinal ML based binary classifier\n",
    "- input is a vector of features\n",
    "- output is classification (label)\n",
    "Modern \"Representation\" classifiers\n",
    "- automatically determine input feature vectors\n",
    "\n",
    "## Understanding Deep Learning\n",
    "\n",
    "- Representation systems can figure out feature and classifications by itself during training\n",
    "- The Key to the the \"representation\" system is the feature selection algorithm\n",
    "\n",
    "## Deep Learning and Neural Networks\n",
    "\n",
    "- Deep Learning: Algorithms that learn what features matter (widely used for speach and image recognition)\n",
    "- Neural Networks: The most common class of deep learning algos\n",
    "- NN are built up of Neurons, which are the building blocks to support \"learning\"\n",
    "\n",
    "- Deep Learning systems are made up of layers:\n",
    "  Example: Image Recognition\n",
    "  - Pixel extraction\n",
    "  - Edge Extraction\n",
    "  - Corner Extraction\n",
    "  - Object Part combination\n",
    " The input and output layers are the visible layers\n",
    " The middle layers are the hidden layers\n",
    "\n",
    " ## Introduction Of Tensorflow\n",
    " - Open source library for numerical computation using data flow graphs,\n",
    " made by Google\n",
    " - Build for distributed world (clusters, GPUS, etc)\n",
    " - Suite of software (TensorFlow Board, serving)\n",
    "\n",
    " ### Uses:\n",
    "  - Greate for ML development\n",
    "  - Has a REPL env for quick development\n",
    "  - Models are easily ported to production\n",
    "  - Large scale distributed models\n",
    "  - Models for mobile and embedded envs\n",
    "\n",
    " ### Strengths\n",
    "\n",
    " - Easy to use Stable Python Api\n",
    " - Scalable\n",
    " - Efficient and performant\n",
    " - Great support from Google\n",
    " - Addional tools for viz and serving\n",
    "\n",
    "### The World is a Graph\n",
    "\n",
    "- Everything is a graph either a node or an edge\n",
    "- Every node is a computation/operators\n",
    "- Every edge is Data, data is transformed by nodes, also called tensors\n",
    "\n",
    "Example: (Flow Grap)\n",
    "```\n",
    "----1.8----(round)--2--(multiply)--10--(add)--15\n",
    "              \\       /               /\n",
    "               2     5               5\n",
    "                \\   /               /\n",
    "--3.6--(flr)--3-(add)----5-----(abs)\n",
    "```"
   ]
  },
  {
   "cell_type": "code",
   "execution_count": 9,
   "metadata": {},
   "outputs": [
    {
     "name": "stdout",
     "output_type": "stream",
     "text": [
      "Hellow, tensorflow World!1234\n"
     ]
    }
   ],
   "source": [
    "import tensorflow as tf\n",
    "\n",
    "hello = tf.constant('Hellow, tensorflow World!1234')\n",
    "\n",
    "## need a session to run tensor flow\n",
    "sess = tf.Session()\n",
    "print(sess.run(hello))"
   ]
  },
  {
   "cell_type": "markdown",
   "metadata": {},
   "source": [
    "# Computation Graph\n",
    "Tensor flow problems all have to be directy acyclic graphs. Cyclic graphs will never finish\n",
    "## Feeback loops\n",
    "Tensor flow handles feedbacks in the algorithm to make sure that the computation graph has no cycles\n",
    "Cycles can be unrolled in the computation graph, repeating as much as we want. The number of times \n",
    "the graph is unrolled depends on the number of iterations."
   ]
  },
  {
   "cell_type": "code",
   "execution_count": 10,
   "metadata": {
    "scrolled": true
   },
   "outputs": [],
   "source": [
    "# Constants are immutable in tensor flow, the name is nice for use with tensor board\n",
    "a = tf.constant(6, name='constant_a')\n",
    "b = tf.constant(3, name='constant_b')\n",
    "c = tf.constant(10, name='constant_c')\n",
    "d = tf.constant(5, name='costant_d')"
   ]
  },
  {
   "cell_type": "code",
   "execution_count": 11,
   "metadata": {},
   "outputs": [],
   "source": [
    "mul = tf.multiply(a,b, name='mul')\n",
    "div = tf.div(c,d,name='div')\n",
    "addn = tf.add_n([mul,div],name='addn')"
   ]
  },
  {
   "cell_type": "code",
   "execution_count": 12,
   "metadata": {},
   "outputs": [
    {
     "name": "stdout",
     "output_type": "stream",
     "text": [
      "Tensor(\"addn_1:0\", shape=(), dtype=int32)\n",
      "Tensor(\"constant_a_2:0\", shape=(), dtype=int32)\n"
     ]
    }
   ],
   "source": [
    "# printing is really only going to print the node/edge object information\n",
    "print addn\n",
    "print a"
   ]
  },
  {
   "cell_type": "code",
   "execution_count": 13,
   "metadata": {},
   "outputs": [
    {
     "data": {
      "text/plain": [
       "6"
      ]
     },
     "execution_count": 13,
     "metadata": {},
     "output_type": "execute_result"
    }
   ],
   "source": [
    "#Must us ehte session to run a part of the graph\n",
    "sess.run(addn)"
   ]
  },
  {
   "cell_type": "code",
   "execution_count": 14,
   "metadata": {},
   "outputs": [
    {
     "data": {
      "text/plain": [
       "2"
      ]
     },
     "execution_count": 14,
     "metadata": {},
     "output_type": "execute_result"
    }
   ],
   "source": [
    "sess.run(div)"
   ]
  },
  {
   "cell_type": "code",
   "execution_count": 15,
   "metadata": {},
   "outputs": [
    {
     "data": {
      "text/plain": [
       "18"
      ]
     },
     "execution_count": 15,
     "metadata": {},
     "output_type": "execute_result"
    }
   ],
   "source": [
    "sess.run(mul)"
   ]
  },
  {
   "cell_type": "code",
   "execution_count": 16,
   "metadata": {},
   "outputs": [
    {
     "data": {
      "text/plain": [
       "6"
      ]
     },
     "execution_count": 16,
     "metadata": {},
     "output_type": "execute_result"
    }
   ],
   "source": [
    "sess.run(a)"
   ]
  },
  {
   "cell_type": "code",
   "execution_count": 17,
   "metadata": {},
   "outputs": [],
   "source": [
    "# Use writer to write to a file, save the graph representation of the session right now\n",
    "writer = tf.summary.FileWriter('./m2_example1',sess.graph)\n",
    "#close these bad boy, an run the tensorboard command on the above created file to see the output\n",
    "writer.close()\n",
    "sess.close()"
   ]
  },
  {
   "cell_type": "markdown",
   "metadata": {},
   "source": [
    "## Tensor Flow Computation\n",
    "Every graph execution occurs in two steps\n",
    "- computation of the graph\n",
    "- execution of the graph"
   ]
  },
  {
   "cell_type": "code",
   "execution_count": 29,
   "metadata": {},
   "outputs": [
    {
     "name": "stdout",
     "output_type": "stream",
     "text": [
      "Sum of square, power, and square root  91.563995\n"
     ]
    }
   ],
   "source": [
    "a = tf.constant(6.5, name='constant_a')\n",
    "b = tf.constant(3.4, name='constant_b')\n",
    "c = tf.constant(3.0, name='constant_c')\n",
    "d = tf.constant(100.2, name='costant_d')\n",
    "square = tf.square(a, name='square_a')\n",
    "power = tf.pow(b, c, name='pow_b_c')\n",
    "sqrt = tf.sqrt(d, name='sqrt_d')\n",
    "final_sum = tf.add_n([square, power, sqrt], name=\"final_sum\")\n",
    "sess = tf.Session()\n",
    "print \"Sum of square, power, and square root \", sess.run(final_sum)\n",
    "sess.close()\n",
    "# Use writer to write to a file, save the graph representation of the session right now\n",
    "writer = tf.summary.FileWriter('./m2_example2',sess.graph)\n",
    "#close these bad boy, an run the tensorboard command on the above created file to see the output\n",
    "writer.close()\n",
    "sess.close()"
   ]
  },
  {
   "cell_type": "code",
   "execution_count": 33,
   "metadata": {},
   "outputs": [
    {
     "name": "stdout",
     "output_type": "stream",
     "text": [
      "zeroD Rank: 0\n",
      "oneD Rank: 1\n",
      "twoD Rank: 2\n"
     ]
    }
   ],
   "source": [
    "# determine the rank of the tensors\n",
    "sess = tf.Session()\n",
    "zeroD = tf.constant(5)\n",
    "print \"zeroD Rank: %d\" % sess.run(tf.rank(zeroD))\n",
    "oneD = tf.constant([\"how\",\"are\",\"you?\"])\n",
    "print \"oneD Rank: %d\" % sess.run(tf.rank(oneD))\n",
    "twoD = tf.constant([[1,2],[3,4]])\n",
    "print \"twoD Rank: %d\" % sess.run(tf.rank(twoD))\n",
    "sess.close()"
   ]
  },
  {
   "cell_type": "code",
   "execution_count": 38,
   "metadata": {},
   "outputs": [
    {
     "name": "stdout",
     "output_type": "stream",
     "text": [
      "Collecting ujson\n",
      "\u001b[?25l  Downloading https://files.pythonhosted.org/packages/16/c4/79f3409bc710559015464e5f49b9879430d8f87498ecdc335899732e5377/ujson-1.35.tar.gz (192kB)\n",
      "\u001b[K    100% |████████████████████████████████| 194kB 2.3MB/s ta 0:00:01\n",
      "\u001b[?25hBuilding wheels for collected packages: ujson\n",
      "  Running setup.py bdist_wheel for ujson ... \u001b[?25ldone\n",
      "\u001b[?25h  Stored in directory: /home/scott/.cache/pip/wheels/28/77/e4/0311145b9c2e2f01470e744855131f9e34d6919687550f87d1\n",
      "Successfully built ujson\n",
      "Installing collected packages: ujson\n",
      "Successfully installed ujson-1.35\n"
     ]
    }
   ],
   "source": [
    "!pip install ujson"
   ]
  },
  {
   "cell_type": "code",
   "execution_count": 45,
   "metadata": {},
   "outputs": [
    {
     "name": "stdout",
     "output_type": "stream",
     "text": [
      "mean(sum(x), prod(y)): 303\n"
     ]
    }
   ],
   "source": [
    "# using multiple dimensional tensors\n",
    "x = tf.constant([100,200,300], name='x')\n",
    "y = tf.constant([1,2,3], name='y')\n",
    "sum_x = tf.reduce_sum(x, name='sum_x')\n",
    "prod_y = tf.reduce_prod(y, name='prod_y')\n",
    "final_div = tf.div(sum_x,prod_y,name='final_div')\n",
    "final_mean = tf.reduce_mean([sum_x,prod_y],name='mean')\n",
    "sess = tf.Session()\n",
    "\n",
    "print \"mean(sum(x), prod(y)):\", sess.run(final_mean)\n",
    "sess.close()"
   ]
  },
  {
   "cell_type": "markdown",
   "metadata": {},
   "source": [
    "## Numpy in Tensor Flow\n",
    "Tensor flow is easily able to integrate numpy data formats in algo. computations"
   ]
  },
  {
   "cell_type": "code",
   "execution_count": 52,
   "metadata": {},
   "outputs": [
    {
     "name": "stdout",
     "output_type": "stream",
     "text": [
      "0\n",
      "1\n"
     ]
    }
   ],
   "source": [
    "import numpy as np\n",
    "sess = tf.Session()\n",
    "zeroD = np.array(30, dtype=np.int32)\n",
    "print sess.run(tf.rank(zeroD))\n",
    "oneD = np.array([1,2,3,4], dtype=np.int32)\n",
    "print sess.run(tf.rank(oneD))\n",
    "sess.close()"
   ]
  },
  {
   "cell_type": "markdown",
   "metadata": {},
   "source": [
    "# Linear Regression\n",
    "\n",
    "- Start with some initial value for a and b, (a+bx = y); called a_start, b_start\n",
    "- Calculate the least square error from the training set and feed back into the start of the algorithm\n",
    "- Calculate new values for a and b, a_i, b_i based on the squared error\n",
    "- iterate until error is below some value, or change is error is below a threshold\n",
    "\n",
    "# Placeholders\n",
    "\n",
    "- Used by tensor flow to hold a place for variables to passed into the algorithm\n"
   ]
  },
  {
   "cell_type": "code",
   "execution_count": 58,
   "metadata": {},
   "outputs": [
    {
     "name": "stdout",
     "output_type": "stream",
     "text": [
      "Sum divided by prod:  100\n",
      "Sum divided by prod2:  1\n"
     ]
    }
   ],
   "source": [
    "# create a 1-D tensor that holds 3 elements called x\n",
    "# using placeholders, the sum and prod methods are not known until runtime\n",
    "x = tf.placeholder(tf.int32, shape=[3], name='x')\n",
    "y = tf.placeholder(tf.int32, shape=[3], name='y')\n",
    "sum_x = tf.reduce_sum(x, name='sum_x')\n",
    "prod_y = tf.reduce_prod(y, name='prod_y')\n",
    "final_div = tf.div(sum_x, prod_y, name=\"final_div\")\n",
    "sess = tf.Session()\n",
    "print \"Sum divided by prod: \", sess.run(final_div, feed_dict={x:[100,200,300], y:[1,2,3]})\n",
    "print \"Sum divided by prod2: \", sess.run(final_div, feed_dict={x:[1,2,10], y:[1,2,4]})\n",
    "sess.close()"
   ]
  },
  {
   "cell_type": "code",
   "execution_count": 62,
   "metadata": {},
   "outputs": [
    {
     "name": "stdout",
     "output_type": "stream",
     "text": [
      "Wx test:  [  50 5500]\n",
      "y:  [  21 3309]\n",
      "fetches y:  [ 101 1001]\n",
      "multiple fetch:  [array([ 105, 1203], dtype=int32), array([5, 9], dtype=int32)]\n"
     ]
    }
   ],
   "source": [
    "#y=Wx+b, W is a constant 1-D tensor\n",
    "W = tf.constant([10,100], name=\"W_const\")\n",
    "# x, b can be any shaped tensor\n",
    "x = tf.placeholder(tf.int32, name='x')\n",
    "b = tf.placeholder(tf.int32, name='b')\n",
    "# multiply is not matrx multiplication, but element to element multiplication, and W and x need to be same shape and rank\n",
    "Wx = tf.multiply(W, x, name='Wx')\n",
    "\n",
    "y = tf.add(Wx, b, name=\"y\")\n",
    "y_ = tf.subtract(x,b, name=\"y_\")\n",
    "with tf.Session() as sess:\n",
    "    print \"Wx test: \", sess.run(Wx, feed_dict={x:[5,55]})\n",
    "    print \"y: \", sess.run(y, feed_dict={x:[2,33], b:[1,9]})\n",
    "    ## use fetches to avoid having to specify every value\n",
    "    print \"fetches y: \", sess.run(fetches=y, feed_dict={Wx:[100,1000], b:[1,1]})\n",
    "    print \"multiple fetch: \", sess.run(fetches=[y,y_], feed_dict={x:[10,12], b:[5,3]})"
   ]
  },
  {
   "cell_type": "markdown",
   "metadata": {},
   "source": [
    "# Variables\n",
    "\n",
    "- similar to place holders, but the values of variables are recomputed as the graph is recomputed\n",
    "- the values in a variable persist over several calls to sess.run()"
   ]
  },
  {
   "cell_type": "code",
   "execution_count": 67,
   "metadata": {},
   "outputs": [
    {
     "name": "stdout",
     "output_type": "stream",
     "text": [
      "final y:  [35.5 56.4]\n",
      "s:  [2.5 8. ]\n"
     ]
    }
   ],
   "source": [
    "# vars are given an initial value\n",
    "var_W = tf.Variable([2.5,4.0], tf.float32, name=\"var_W\")\n",
    "x = tf.placeholder(tf.float32, name='x')\n",
    "var_b = tf.Variable([10.0,12.0], tf.float32, name=\"var_b\")\n",
    "y = var_W * x + var_b\n",
    "\n",
    "# initialize all variables that are defined, cant use variables ith out initializing them\n",
    "# execution is assigned to init\n",
    "init = tf.global_variables_initializer()\n",
    "with tf.Session() as sess:\n",
    "    sess.run(init)\n",
    "    print \"final y: \", sess.run(y, feed_dict={x:[10.2,11.1]})\n",
    "\n",
    "s = var_W * x\n",
    "#initialize only W\n",
    "init_W = tf.variables_initializer([var_W])\n",
    "\n",
    "with tf.Session() as sess:\n",
    "    sess.run(init_W)\n",
    "    print \"s: \", sess.run(s, feed_dict={x:[1,2]})"
   ]
  },
  {
   "cell_type": "markdown",
   "metadata": {},
   "source": [
    "# Images\n",
    "\n",
    "- Images are respresented by pixes\n",
    "- Using several steps, the images is broken into several different types of features (edges, colors, etc.)\n",
    "- Using a CNN the steps can be used for images recognition\n",
    "- Images can be represented as 3D tenors\n"
   ]
  },
  {
   "cell_type": "code",
   "execution_count": 68,
   "metadata": {},
   "outputs": [
    {
     "name": "stdout",
     "output_type": "stream",
     "text": [
      "Collecting pillow\n",
      "\u001b[?25l  Downloading https://files.pythonhosted.org/packages/6e/27/709a8493071ec649a56d5a3194f648ec7cd792189e994bbd2ef5d285670d/Pillow-5.2.0-cp27-cp27mu-manylinux1_x86_64.whl (2.0MB)\n",
      "\u001b[K    100% |████████████████████████████████| 2.0MB 2.9MB/s ta 0:00:011\n",
      "\u001b[?25hInstalling collected packages: pillow\n",
      "Successfully installed pillow-5.2.0\n"
     ]
    }
   ],
   "source": [
    "!pip install pillow"
   ]
  },
  {
   "cell_type": "code",
   "execution_count": 73,
   "metadata": {
    "scrolled": true
   },
   "outputs": [
    {
     "name": "stdout",
     "output_type": "stream",
     "text": [
      "(486, 729, 3)\n"
     ]
    },
    {
     "data": {
      "image/png": "[encoded data removed]",
      "text/plain": [
       "<matplotlib.figure.Figure at 0x7f7ab839a710>"
      ]
     },
     "metadata": {},
     "output_type": "display_data"
    }
   ],
   "source": [
    "# using pillow to convert from jpg to png\n",
    "import matplotlib.image as mp_img\n",
    "import matplotlib.pyplot as plot\n",
    "import os\n",
    "\n",
    "filename = \"./dog.jpg\"\n",
    "\n",
    "image = mp_img.imread(filename)\n",
    "print image.shape\n",
    "plot.imshow(image)\n",
    "plot.show()"
   ]
  },
  {
   "cell_type": "code",
   "execution_count": 75,
   "metadata": {},
   "outputs": [
    {
     "data": {
      "image/png": "[encoded data removed]",
      "text/plain": [
       "<matplotlib.figure.Figure at 0x7f7ab97c05d0>"
      ]
     },
     "metadata": {},
     "output_type": "display_data"
    }
   ],
   "source": [
    "x = tf.Variable(image, name='x')\n",
    "init = tf.global_variables_initializer()\n",
    "\n",
    "with tf.Session() as sess:\n",
    "    sess.run(init)\n",
    "    # swap the 1 and second axis, leaving rbg values alone\n",
    "    # can also use transpose_image\n",
    "    transpose = tf.transpose(x, perm=[1,0,2])\n",
    "    result = sess.run(transpose)\n",
    "    plot.imshow(result)\n",
    "    plot.show()"
   ]
  },
  {
   "cell_type": "code",
   "execution_count": 79,
   "metadata": {},
   "outputs": [],
   "source": [
    "from PIL import Image\n",
    "original_image_list = [\"./dog.jpg\",\"dog2.jpeg\",\"cat.jpg\"]\n",
    "\n",
    "# Make a queue of file names including all the images form the list\n",
    "filename_queue = tf.train.string_input_producer(original_image_list)\n",
    "# create a way to read in an entire image file\n",
    "image_reader = tf.WholeFileReader()\n",
    "\n",
    "with tf.Session() as sess:\n",
    "    # Coordinate class to work with threads and queues\n",
    "    coord = tf.train.Coordinator()\n",
    "    threads = tf.train.start_queue_runners(sess=sess, coord=coord)\n",
    "    \n",
    "    image_list = []\n",
    "    for i in range(len(original_image_list)):\n",
    "        # Read a whole file from the queue, the first returned value in the tuple\n",
    "        # is the file name, which we are ignoring\n",
    "        _, image_file = image_reader.read(filename_queue)\n",
    "        \n",
    "        # Decode the image jpg into Tensor which we can then use\n",
    "        # in training\n",
    "        image = tf.image.decode_jpeg(image_file)\n",
    "        image = tf.image.resize_images(image, (224,224))\n",
    "        image.set_shape((224,224,3))\n",
    "        image_array = sess.run(image)\n",
    "        #Image.fromarray(image_array.astype('uint8'), 'RGB').show()\n",
    "        #expand dims to help determine with image we are refering to\n",
    "        image_list.append(tf.expand_dims(image_array, 0))\n",
    "    #finish off the filename queue coordinator\n",
    "    coord.request_stop()\n",
    "    coord.join(threads)"
   ]
  },
  {
   "cell_type": "markdown",
   "metadata": {},
   "source": [
    "# MNIST Data Set\n",
    "\n",
    "- Great way to get started with image recognition, and pattern recognition\n",
    "- Large quantatiy of modified standard handwritten digits\n",
    "- 60k training exampls and 10k examples of test images\n",
    "\n",
    "## K-nearest-neighbor (KNN)\n",
    "\n",
    "- A form of supervised learning\n",
    "- Uses a training set as a model with labels on each entry\n",
    "- To predict, a new input uses similarity of input to training data to find prediction\n",
    "### How are similiarities calculated\n",
    "\n",
    "- Distance measures\n",
    "- map data to distance measure formulas\n",
    "    - Euclidean Distance (standard distance formula\n",
    "    - L1, measures distance as discrete steps, good for discritized data, in 2D A to B = SUM(ABS(diff(A_i,B_i))"
   ]
  },
  {
   "cell_type": "code",
   "execution_count": 83,
   "metadata": {},
   "outputs": [
    {
     "name": "stdout",
     "output_type": "stream",
     "text": [
      "Extracting mnist_data/train-images-idx3-ubyte.gz\n",
      "Extracting mnist_data/train-labels-idx1-ubyte.gz\n",
      "Extracting mnist_data/t10k-images-idx3-ubyte.gz\n",
      "Extracting mnist_data/t10k-labels-idx1-ubyte.gz\n",
      "('Test', 0, 'Prediction:', 7, 'True Label: ', 7)\n",
      "('Test', 1, 'Prediction:', 0, 'True Label: ', 0)\n",
      "('Test', 2, 'Prediction:', 1, 'True Label: ', 1)\n",
      "('Test', 3, 'Prediction:', 2, 'True Label: ', 2)\n",
      "('Test', 4, 'Prediction:', 1, 'True Label: ', 7)\n",
      "('Test', 5, 'Prediction:', 9, 'True Label: ', 9)\n",
      "('Test', 6, 'Prediction:', 3, 'True Label: ', 3)\n",
      "('Test', 7, 'Prediction:', 5, 'True Label: ', 5)\n",
      "('Test', 8, 'Prediction:', 9, 'True Label: ', 9)\n",
      "('Test', 9, 'Prediction:', 0, 'True Label: ', 2)\n",
      "('Test', 10, 'Prediction:', 0, 'True Label: ', 0)\n",
      "('Test', 11, 'Prediction:', 5, 'True Label: ', 5)\n",
      "('Test', 12, 'Prediction:', 5, 'True Label: ', 8)\n",
      "('Test', 13, 'Prediction:', 4, 'True Label: ', 4)\n",
      "('Test', 14, 'Prediction:', 8, 'True Label: ', 8)\n",
      "('Test', 15, 'Prediction:', 9, 'True Label: ', 9)\n",
      "('Test', 16, 'Prediction:', 9, 'True Label: ', 9)\n",
      "('Test', 17, 'Prediction:', 0, 'True Label: ', 0)\n",
      "('Test', 18, 'Prediction:', 0, 'True Label: ', 0)\n",
      "('Test', 19, 'Prediction:', 8, 'True Label: ', 8)\n",
      "('Test', 20, 'Prediction:', 3, 'True Label: ', 2)\n",
      "('Test', 21, 'Prediction:', 0, 'True Label: ', 0)\n",
      "('Test', 22, 'Prediction:', 2, 'True Label: ', 2)\n",
      "('Test', 23, 'Prediction:', 6, 'True Label: ', 6)\n",
      "('Test', 24, 'Prediction:', 9, 'True Label: ', 9)\n",
      "('Test', 25, 'Prediction:', 1, 'True Label: ', 1)\n",
      "('Test', 26, 'Prediction:', 0, 'True Label: ', 0)\n",
      "('Test', 27, 'Prediction:', 6, 'True Label: ', 6)\n",
      "('Test', 28, 'Prediction:', 3, 'True Label: ', 3)\n",
      "('Test', 29, 'Prediction:', 6, 'True Label: ', 6)\n",
      "('Test', 30, 'Prediction:', 7, 'True Label: ', 2)\n",
      "('Test', 31, 'Prediction:', 9, 'True Label: ', 9)\n",
      "('Test', 32, 'Prediction:', 1, 'True Label: ', 1)\n",
      "('Test', 33, 'Prediction:', 5, 'True Label: ', 5)\n",
      "('Test', 34, 'Prediction:', 3, 'True Label: ', 3)\n",
      "('Test', 35, 'Prediction:', 0, 'True Label: ', 0)\n",
      "('Test', 36, 'Prediction:', 6, 'True Label: ', 6)\n",
      "('Test', 37, 'Prediction:', 0, 'True Label: ', 0)\n",
      "('Test', 38, 'Prediction:', 0, 'True Label: ', 0)\n",
      "('Test', 39, 'Prediction:', 4, 'True Label: ', 7)\n",
      "('Test', 40, 'Prediction:', 1, 'True Label: ', 1)\n",
      "('Test', 41, 'Prediction:', 8, 'True Label: ', 8)\n",
      "('Test', 42, 'Prediction:', 8, 'True Label: ', 8)\n",
      "('Test', 43, 'Prediction:', 0, 'True Label: ', 0)\n",
      "('Test', 44, 'Prediction:', 5, 'True Label: ', 5)\n",
      "('Test', 45, 'Prediction:', 3, 'True Label: ', 3)\n",
      "('Test', 46, 'Prediction:', 7, 'True Label: ', 4)\n",
      "('Test', 47, 'Prediction:', 9, 'True Label: ', 9)\n",
      "('Test', 48, 'Prediction:', 9, 'True Label: ', 9)\n",
      "('Test', 49, 'Prediction:', 9, 'True Label: ', 9)\n",
      "('Test', 50, 'Prediction:', 1, 'True Label: ', 1)\n",
      "('Test', 51, 'Prediction:', 6, 'True Label: ', 6)\n",
      "('Test', 52, 'Prediction:', 1, 'True Label: ', 1)\n",
      "('Test', 53, 'Prediction:', 7, 'True Label: ', 7)\n",
      "('Test', 54, 'Prediction:', 7, 'True Label: ', 7)\n",
      "('Test', 55, 'Prediction:', 3, 'True Label: ', 3)\n",
      "('Test', 56, 'Prediction:', 9, 'True Label: ', 9)\n",
      "('Test', 57, 'Prediction:', 6, 'True Label: ', 6)\n",
      "('Test', 58, 'Prediction:', 3, 'True Label: ', 3)\n",
      "('Test', 59, 'Prediction:', 2, 'True Label: ', 2)\n",
      "('Test', 60, 'Prediction:', 1, 'True Label: ', 1)\n",
      "('Test', 61, 'Prediction:', 2, 'True Label: ', 2)\n",
      "('Test', 62, 'Prediction:', 3, 'True Label: ', 3)\n",
      "('Test', 63, 'Prediction:', 6, 'True Label: ', 6)\n",
      "('Test', 64, 'Prediction:', 8, 'True Label: ', 8)\n",
      "('Test', 65, 'Prediction:', 1, 'True Label: ', 1)\n",
      "('Test', 66, 'Prediction:', 0, 'True Label: ', 0)\n",
      "('Test', 67, 'Prediction:', 2, 'True Label: ', 2)\n",
      "('Test', 68, 'Prediction:', 1, 'True Label: ', 1)\n",
      "('Test', 69, 'Prediction:', 9, 'True Label: ', 9)\n",
      "('Test', 70, 'Prediction:', 6, 'True Label: ', 6)\n",
      "('Test', 71, 'Prediction:', 2, 'True Label: ', 2)\n",
      "('Test', 72, 'Prediction:', 9, 'True Label: ', 5)\n",
      "('Test', 73, 'Prediction:', 4, 'True Label: ', 4)\n",
      "('Test', 74, 'Prediction:', 8, 'True Label: ', 8)\n",
      "('Test', 75, 'Prediction:', 2, 'True Label: ', 2)\n",
      "('Test', 76, 'Prediction:', 8, 'True Label: ', 8)\n",
      "('Test', 77, 'Prediction:', 4, 'True Label: ', 4)\n",
      "('Test', 78, 'Prediction:', 6, 'True Label: ', 6)\n",
      "('Test', 79, 'Prediction:', 6, 'True Label: ', 6)\n",
      "('Test', 80, 'Prediction:', 6, 'True Label: ', 6)\n",
      "('Test', 81, 'Prediction:', 1, 'True Label: ', 1)\n",
      "('Test', 82, 'Prediction:', 9, 'True Label: ', 9)\n",
      "('Test', 83, 'Prediction:', 7, 'True Label: ', 7)\n",
      "('Test', 84, 'Prediction:', 1, 'True Label: ', 1)\n",
      "('Test', 85, 'Prediction:', 9, 'True Label: ', 9)\n",
      "('Test', 86, 'Prediction:', 1, 'True Label: ', 1)\n",
      "('Test', 87, 'Prediction:', 7, 'True Label: ', 7)\n",
      "('Test', 88, 'Prediction:', 4, 'True Label: ', 4)\n",
      "('Test', 89, 'Prediction:', 0, 'True Label: ', 0)\n",
      "('Test', 90, 'Prediction:', 9, 'True Label: ', 9)\n",
      "('Test', 91, 'Prediction:', 4, 'True Label: ', 4)\n",
      "('Test', 92, 'Prediction:', 3, 'True Label: ', 2)\n",
      "('Test', 93, 'Prediction:', 4, 'True Label: ', 4)\n",
      "('Test', 94, 'Prediction:', 1, 'True Label: ', 1)\n",
      "('Test', 95, 'Prediction:', 2, 'True Label: ', 2)\n",
      "('Test', 96, 'Prediction:', 9, 'True Label: ', 9)\n",
      "('Test', 97, 'Prediction:', 5, 'True Label: ', 5)\n",
      "('Test', 98, 'Prediction:', 6, 'True Label: ', 6)\n",
      "('Test', 99, 'Prediction:', 7, 'True Label: ', 7)\n",
      "('Test', 100, 'Prediction:', 5, 'True Label: ', 5)\n",
      "('Test', 101, 'Prediction:', 0, 'True Label: ', 0)\n",
      "('Test', 102, 'Prediction:', 2, 'True Label: ', 2)\n",
      "('Test', 103, 'Prediction:', 8, 'True Label: ', 8)\n",
      "('Test', 104, 'Prediction:', 2, 'True Label: ', 2)\n",
      "('Test', 105, 'Prediction:', 4, 'True Label: ', 4)\n",
      "('Test', 106, 'Prediction:', 8, 'True Label: ', 8)\n",
      "('Test', 107, 'Prediction:', 5, 'True Label: ', 5)\n",
      "('Test', 108, 'Prediction:', 3, 'True Label: ', 3)\n",
      "('Test', 109, 'Prediction:', 4, 'True Label: ', 4)\n",
      "('Test', 110, 'Prediction:', 8, 'True Label: ', 8)\n",
      "('Test', 111, 'Prediction:', 6, 'True Label: ', 6)\n",
      "('Test', 112, 'Prediction:', 7, 'True Label: ', 7)\n",
      "('Test', 113, 'Prediction:', 3, 'True Label: ', 3)\n",
      "('Test', 114, 'Prediction:', 4, 'True Label: ', 4)\n",
      "('Test', 115, 'Prediction:', 9, 'True Label: ', 9)\n",
      "('Test', 116, 'Prediction:', 4, 'True Label: ', 4)\n",
      "('Test', 117, 'Prediction:', 2, 'True Label: ', 2)\n",
      "('Test', 118, 'Prediction:', 8, 'True Label: ', 8)\n",
      "('Test', 119, 'Prediction:', 0, 'True Label: ', 0)\n",
      "('Test', 120, 'Prediction:', 9, 'True Label: ', 4)\n",
      "('Test', 121, 'Prediction:', 2, 'True Label: ', 2)\n",
      "('Test', 122, 'Prediction:', 0, 'True Label: ', 0)\n",
      "('Test', 123, 'Prediction:', 5, 'True Label: ', 5)\n",
      "('Test', 124, 'Prediction:', 5, 'True Label: ', 5)\n",
      "('Test', 125, 'Prediction:', 7, 'True Label: ', 7)\n",
      "('Test', 126, 'Prediction:', 4, 'True Label: ', 4)\n",
      "('Test', 127, 'Prediction:', 3, 'True Label: ', 5)\n",
      "('Test', 128, 'Prediction:', 1, 'True Label: ', 1)\n",
      "('Test', 129, 'Prediction:', 1, 'True Label: ', 1)\n",
      "('Test', 130, 'Prediction:', 1, 'True Label: ', 1)\n",
      "('Test', 131, 'Prediction:', 2, 'True Label: ', 2)\n",
      "('Test', 132, 'Prediction:', 9, 'True Label: ', 9)\n",
      "('Test', 133, 'Prediction:', 2, 'True Label: ', 2)\n",
      "('Test', 134, 'Prediction:', 6, 'True Label: ', 6)\n",
      "('Test', 135, 'Prediction:', 3, 'True Label: ', 3)\n",
      "('Test', 136, 'Prediction:', 2, 'True Label: ', 2)\n",
      "('Test', 137, 'Prediction:', 9, 'True Label: ', 9)\n",
      "('Test', 138, 'Prediction:', 7, 'True Label: ', 7)\n",
      "('Test', 139, 'Prediction:', 3, 'True Label: ', 3)\n",
      "('Test', 140, 'Prediction:', 6, 'True Label: ', 6)\n",
      "('Test', 141, 'Prediction:', 1, 'True Label: ', 1)\n",
      "('Test', 142, 'Prediction:', 5, 'True Label: ', 5)\n",
      "('Test', 143, 'Prediction:', 8, 'True Label: ', 8)\n",
      "('Test', 144, 'Prediction:', 2, 'True Label: ', 2)\n",
      "('Test', 145, 'Prediction:', 5, 'True Label: ', 5)\n",
      "('Test', 146, 'Prediction:', 1, 'True Label: ', 1)\n",
      "('Test', 147, 'Prediction:', 2, 'True Label: ', 2)\n",
      "('Test', 148, 'Prediction:', 3, 'True Label: ', 3)\n",
      "('Test', 149, 'Prediction:', 4, 'True Label: ', 4)\n",
      "('Test', 150, 'Prediction:', 2, 'True Label: ', 2)\n",
      "('Test', 151, 'Prediction:', 5, 'True Label: ', 5)\n",
      "('Test', 152, 'Prediction:', 9, 'True Label: ', 4)\n",
      "('Test', 153, 'Prediction:', 7, 'True Label: ', 7)\n",
      "('Test', 154, 'Prediction:', 3, 'True Label: ', 8)\n",
      "('Test', 155, 'Prediction:', 8, 'True Label: ', 8)\n",
      "('Test', 156, 'Prediction:', 9, 'True Label: ', 9)\n",
      "('Test', 157, 'Prediction:', 2, 'True Label: ', 2)\n",
      "('Test', 158, 'Prediction:', 9, 'True Label: ', 9)\n",
      "('Test', 159, 'Prediction:', 7, 'True Label: ', 7)\n"
     ]
    },
    {
     "name": "stdout",
     "output_type": "stream",
     "text": [
      "('Test', 160, 'Prediction:', 8, 'True Label: ', 8)\n",
      "('Test', 161, 'Prediction:', 8, 'True Label: ', 8)\n",
      "('Test', 162, 'Prediction:', 0, 'True Label: ', 0)\n",
      "('Test', 163, 'Prediction:', 8, 'True Label: ', 8)\n",
      "('Test', 164, 'Prediction:', 5, 'True Label: ', 5)\n",
      "('Test', 165, 'Prediction:', 1, 'True Label: ', 1)\n",
      "('Test', 166, 'Prediction:', 0, 'True Label: ', 0)\n",
      "('Test', 167, 'Prediction:', 5, 'True Label: ', 5)\n",
      "('Test', 168, 'Prediction:', 6, 'True Label: ', 6)\n",
      "('Test', 169, 'Prediction:', 9, 'True Label: ', 9)\n",
      "('Test', 170, 'Prediction:', 2, 'True Label: ', 2)\n",
      "('Test', 171, 'Prediction:', 3, 'True Label: ', 3)\n",
      "('Test', 172, 'Prediction:', 9, 'True Label: ', 9)\n",
      "('Test', 173, 'Prediction:', 3, 'True Label: ', 3)\n",
      "('Test', 174, 'Prediction:', 0, 'True Label: ', 0)\n",
      "('Test', 175, 'Prediction:', 3, 'True Label: ', 3)\n",
      "('Test', 176, 'Prediction:', 1, 'True Label: ', 1)\n",
      "('Test', 177, 'Prediction:', 7, 'True Label: ', 7)\n",
      "('Test', 178, 'Prediction:', 8, 'True Label: ', 8)\n",
      "('Test', 179, 'Prediction:', 1, 'True Label: ', 1)\n",
      "('Test', 180, 'Prediction:', 4, 'True Label: ', 4)\n",
      "('Test', 181, 'Prediction:', 9, 'True Label: ', 9)\n",
      "('Test', 182, 'Prediction:', 5, 'True Label: ', 5)\n",
      "('Test', 183, 'Prediction:', 6, 'True Label: ', 6)\n",
      "('Test', 184, 'Prediction:', 6, 'True Label: ', 6)\n",
      "('Test', 185, 'Prediction:', 1, 'True Label: ', 1)\n",
      "('Test', 186, 'Prediction:', 1, 'True Label: ', 1)\n",
      "('Test', 187, 'Prediction:', 2, 'True Label: ', 2)\n",
      "('Test', 188, 'Prediction:', 1, 'True Label: ', 1)\n",
      "('Test', 189, 'Prediction:', 5, 'True Label: ', 5)\n",
      "('Test', 190, 'Prediction:', 2, 'True Label: ', 2)\n",
      "('Test', 191, 'Prediction:', 9, 'True Label: ', 9)\n",
      "('Test', 192, 'Prediction:', 3, 'True Label: ', 3)\n",
      "('Test', 193, 'Prediction:', 0, 'True Label: ', 0)\n",
      "('Test', 194, 'Prediction:', 3, 'True Label: ', 3)\n",
      "('Test', 195, 'Prediction:', 2, 'True Label: ', 2)\n",
      "('Test', 196, 'Prediction:', 5, 'True Label: ', 5)\n",
      "('Test', 197, 'Prediction:', 3, 'True Label: ', 3)\n",
      "('Test', 198, 'Prediction:', 1, 'True Label: ', 1)\n",
      "('Test', 199, 'Prediction:', 9, 'True Label: ', 9)\n",
      "Accuracy:  0.935\n"
     ]
    }
   ],
   "source": [
    "import numpy as np\n",
    "\n",
    "from tensorflow.examples.tutorials.mnist import input_data\n",
    "\n",
    "# store the mnust data from /tmp/data\n",
    "\n",
    "mnist = input_data.read_data_sets(\"mnist_data/\", one_hot=True)\n",
    "\n",
    "# Grab the next 5000 training examples\n",
    "training_digits, training_labels = mnist.train.next_batch(5000)\n",
    "test_digits, test_labels = mnist.test.next_batch(200)\n",
    "# A single image is 784 pixels, that can be represented as a single\n",
    "# vector of 784 element (unwrapping the matrix)\n",
    "# for training we are specifying the none to be able to collect a list\n",
    "# of unwrapped images\n",
    "training_digits_pl = tf.placeholder(\"float\", [None, 784])\n",
    "testing_digits_pl = tf.placeholder(\"float\", [784])\n",
    "# compare the test image to all the training images using L1\n",
    "l1_distance = tf.abs(tf.add(training_digits_pl, tf.negative(testing_digits_pl)))\n",
    "distance = tf.reduce_sum(l1_distance, axis=1)\n",
    "pred = tf.arg_min(distance, 0)\n",
    "accuracy = 0.\n",
    "\n",
    "init = tf.global_variables_initializer()\n",
    "\n",
    "with tf.Session() as sess:\n",
    "    sess.run(init)\n",
    "    #loop over the test data\n",
    "    for i in range(len(test_digits)):\n",
    "        nn_index = sess.run(pred,\\\n",
    "            feed_dict={training_digits_pl: training_digits,\\\n",
    "                       testing_digits_pl: test_digits[i,:]})\n",
    "        print(\"Test\", i, \"Prediction:\",np.argmax(training_labels[nn_index]),\\\n",
    "             \"True Label: \", np.argmax(test_labels[i]))\n",
    "        if np.argmax(training_labels[nn_index]) == np.argmax(test_labels[i]):\n",
    "            accuracy= accuracy+1.\n",
    "    print \"Accuracy: \", accuracy/200."
   ]
  },
  {
   "cell_type": "code",
   "execution_count": null,
   "metadata": {},
   "outputs": [],
   "source": []
  }
 ],
 "metadata": {
  "kernelspec": {
   "display_name": "Python 2",
   "language": "python",
   "name": "python2"
  },
  "language_info": {
   "codemirror_mode": {
    "name": "ipython",
    "version": 2
   },
   "file_extension": ".py",
   "mimetype": "text/x-python",
   "name": "python",
   "nbconvert_exporter": "python",
   "pygments_lexer": "ipython2",
   "version": "2.7.15rc1"
  }
 },
 "nbformat": 4,
 "nbformat_minor": 2
}
